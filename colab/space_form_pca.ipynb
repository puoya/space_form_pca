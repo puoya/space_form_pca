{
  "nbformat": 4,
  "nbformat_minor": 0,
  "metadata": {
    "colab": {
      "name": "space_form_pca.ipynb",
      "provenance": [],
      "collapsed_sections": []
    },
    "kernelspec": {
      "name": "python3",
      "display_name": "Python 3"
    },
    "language_info": {
      "name": "python"
    }
  },
  "cells": [
    {
      "cell_type": "markdown",
      "source": [
        "# **space_form_pca: Can include brief description here**\n",
        "\n",
        "[[GitHub](https://github.com/puoya/space_form_pca)]\n",
        "\n",
        "<p align=\"center\" \"font-size:30px;\">\n",
        "Can include detailed description here \n",
        "</p>\n",
        "\n",
        "# Replicate the results!👇"
      ],
      "metadata": {
        "id": "IgF2Em9tKvBK"
      }
    },
    {
      "cell_type": "code",
      "execution_count": null,
      "metadata": {
        "id": "FCwwe9IGnt43",
        "cellView": "form"
      },
      "outputs": [],
      "source": [
        "#@title Run this cell to replicate results of the experiments\n",
        "print('\\n> Cloning the repo')\n",
        "!git clone https://github.com/puoya/space_form_pca.git\n",
        "\n",
        "# Change branch to experiment branch \n",
        "!cd space_form_pca && git checkout mock-colab\n",
        "\n",
        "print('\\n> Install dependencies')\n",
        "!pip install -r space_form_pca/requirements.txt --quiet\n",
        "\n",
        "print('\\n> Running Experiments')\n",
        "!python3 space_form_pca/experiment_1/experiment_script.py\n",
        "\n",
        "print('\\n> Experiments Completed. Resulting NPY files located in dir: ', end='')\n",
        "% pwd"
      ]
    },
    {
      "cell_type": "code",
      "source": [
        "#@title Run this cell to download the resulting npy files\n",
        "from google.colab import files\n",
        "files.download('D_exp.npy') \n",
        "print('\\n> Downloaded D_exp.npy')\n",
        "files.download('d_exp.npy')\n",
        "print('\\n> Downloaded d_exp.npy')\n",
        "files.download('N_exp.npy')\n",
        "print('\\n> Downloaded N_exp.npy')\n",
        "files.download('std_exp.npy') \n",
        "print('\\n> Downloaded std_exp.npy')"
      ],
      "metadata": {
        "id": "3EbSHUFAY8h4",
        "cellView": "form"
      },
      "execution_count": null,
      "outputs": []
    }
  ]
}